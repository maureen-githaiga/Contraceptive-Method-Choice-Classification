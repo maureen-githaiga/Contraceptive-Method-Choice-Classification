{
 "cells": [
  {
   "cell_type": "markdown",
   "id": "b43efde0",
   "metadata": {},
   "source": [
    "## Data Science Project"
   ]
  },
  {
   "cell_type": "markdown",
   "id": "75403fb9",
   "metadata": {},
   "source": [
    "## Contraceptive Method Choice Prediction"
   ]
  },
  {
   "cell_type": "markdown",
   "id": "97e442a3",
   "metadata": {},
   "source": [
    "## Objective"
   ]
  },
  {
   "cell_type": "markdown",
   "id": "0e69d09a",
   "metadata": {},
   "source": [
    "In this project we are using the Contraceptive Method Choice dataset from the UCI Machine learning repository.\n",
    "The dataset is a subset of the 1987 National Indonesian Contraceptive Prevalence Survey.The samples are women who\n",
    "were either pregnant or did not know they were pregnant at the time of the interview.\n",
    "\n",
    "The probem is to predict the current\n",
    "contraceptive method choice (no use,long-term methods ,short term methods)of a woman based on her demographic \n",
    "and social economic characteristics.\n",
    "\n",
    "The metric for success: To build a classification model that can effectively predict the current contaceptive method choice.\n",
    "\n",
    "The dataset: https://archive.ics.uci.ede/ml/machine-learning-databases/cmc\n",
    "        \n",
    "        "
   ]
  },
  {
   "cell_type": "markdown",
   "id": "9e89ff1a",
   "metadata": {},
   "source": [
    "## The Experimental design taken \n"
   ]
  },
  {
   "cell_type": "markdown",
   "id": "f51ffc3c",
   "metadata": {},
   "source": [
    "To achieve our objective we will:\n",
    "\n",
    "1.Data Preprocessing  \n",
    "\n",
    "2.Do an Exploratory Data Analysis\n",
    "\n",
    "4.Model Building ;Build classification models\n",
    "\n",
    "5.Select best model and use it for our prediction\n",
    "\n",
    "6.Evaluate model performance\n",
    "\n",
    "7.Deploy with Streamlit"
   ]
  },
  {
   "cell_type": "code",
   "execution_count": 122,
   "id": "a53a232d",
   "metadata": {},
   "outputs": [],
   "source": [
    "#loading libraries\n",
    "#Data Manipulation\n",
    "import pandas as pd\n",
    "import numpy as np\n",
    "\n",
    "#Visualisation \n",
    "import matplotlib.pyplot as plt\n",
    "import seaborn as sns\n",
    "\n",
    "#Feature Selection\n",
    "from scipy.stats import chi2_contingency\n",
    "from sklearn.feature_selection import SelectKBest,chi2\n",
    "from sklearn.decomposition import PCA\n",
    "\n",
    "#Machine Learning\n",
    "from sklearn.preprocessing import StandardScaler,LabelEncoder\n",
    "from imblearn.over_sampling import SMOTE\n",
    "from collections import Counter\n",
    "from sklearn.model_selection import train_test_split, cross_val_score,GridSearchCV,RandomizedSearchCV\n",
    "from sklearn.linear_model import LogisticRegression\n",
    "from sklearn.neighbors import KNeighborsClassifier\n",
    "from sklearn.svm import SVC\n",
    "from sklearn.tree import DecisionTreeClassifier\n",
    "from sklearn.ensemble import RandomForestClassifier\n",
    "from sklearn.metrics import accuracy_score,confusion_matrix,classification_report, roc_auc_score, roc_curve\n",
    "\n",
    "import warnings\n",
    "warnings.filterwarnings('ignore')\n",
    "\n",
    "%matplotlib inline\n"
   ]
  },
  {
   "cell_type": "code",
   "execution_count": 123,
   "id": "884956b5",
   "metadata": {},
   "outputs": [],
   "source": [
    "#Loading dataset\n",
    "df_cmc=pd.read_csv(\"data/cmc.data\")"
   ]
  },
  {
   "cell_type": "code",
   "execution_count": 124,
   "id": "79c9868c",
   "metadata": {},
   "outputs": [],
   "source": [
    "df_cmc.columns=[\"Wife's age\",\"Wife's education\",\"Husband's education\",\"Number of children ever born\",\n",
    "              \"Wife's religion\",\"Wife's now working\",\"Husband's occupation\",\n",
    "              \"Standard of living index\", \"Media exposure\",\"Contraceptive method used\"]\n",
    "             "
   ]
  },
  {
   "cell_type": "code",
   "execution_count": 129,
   "id": "f67e7b21",
   "metadata": {},
   "outputs": [],
   "source": [
    "df_cmc.to_csv('CMC.csv')"
   ]
  },
  {
   "cell_type": "code",
   "execution_count": 125,
   "id": "b9ebc521",
   "metadata": {},
   "outputs": [
    {
     "data": {
      "text/html": [
       "<div>\n",
       "<style scoped>\n",
       "    .dataframe tbody tr th:only-of-type {\n",
       "        vertical-align: middle;\n",
       "    }\n",
       "\n",
       "    .dataframe tbody tr th {\n",
       "        vertical-align: top;\n",
       "    }\n",
       "\n",
       "    .dataframe thead th {\n",
       "        text-align: right;\n",
       "    }\n",
       "</style>\n",
       "<table border=\"1\" class=\"dataframe\">\n",
       "  <thead>\n",
       "    <tr style=\"text-align: right;\">\n",
       "      <th></th>\n",
       "      <th>Wife's age</th>\n",
       "      <th>Wife's education</th>\n",
       "      <th>Husband's education</th>\n",
       "      <th>Number of children ever born</th>\n",
       "      <th>Wife's religion</th>\n",
       "      <th>Wife's now working</th>\n",
       "      <th>Husband's occupation</th>\n",
       "      <th>Standard of living index</th>\n",
       "      <th>Media exposure</th>\n",
       "      <th>Contraceptive method used</th>\n",
       "    </tr>\n",
       "  </thead>\n",
       "  <tbody>\n",
       "    <tr>\n",
       "      <th>0</th>\n",
       "      <td>45</td>\n",
       "      <td>1</td>\n",
       "      <td>3</td>\n",
       "      <td>10</td>\n",
       "      <td>1</td>\n",
       "      <td>1</td>\n",
       "      <td>3</td>\n",
       "      <td>4</td>\n",
       "      <td>0</td>\n",
       "      <td>1</td>\n",
       "    </tr>\n",
       "    <tr>\n",
       "      <th>1</th>\n",
       "      <td>43</td>\n",
       "      <td>2</td>\n",
       "      <td>3</td>\n",
       "      <td>7</td>\n",
       "      <td>1</td>\n",
       "      <td>1</td>\n",
       "      <td>3</td>\n",
       "      <td>4</td>\n",
       "      <td>0</td>\n",
       "      <td>1</td>\n",
       "    </tr>\n",
       "    <tr>\n",
       "      <th>2</th>\n",
       "      <td>42</td>\n",
       "      <td>3</td>\n",
       "      <td>2</td>\n",
       "      <td>9</td>\n",
       "      <td>1</td>\n",
       "      <td>1</td>\n",
       "      <td>3</td>\n",
       "      <td>3</td>\n",
       "      <td>0</td>\n",
       "      <td>1</td>\n",
       "    </tr>\n",
       "    <tr>\n",
       "      <th>3</th>\n",
       "      <td>36</td>\n",
       "      <td>3</td>\n",
       "      <td>3</td>\n",
       "      <td>8</td>\n",
       "      <td>1</td>\n",
       "      <td>1</td>\n",
       "      <td>3</td>\n",
       "      <td>2</td>\n",
       "      <td>0</td>\n",
       "      <td>1</td>\n",
       "    </tr>\n",
       "    <tr>\n",
       "      <th>4</th>\n",
       "      <td>19</td>\n",
       "      <td>4</td>\n",
       "      <td>4</td>\n",
       "      <td>0</td>\n",
       "      <td>1</td>\n",
       "      <td>1</td>\n",
       "      <td>3</td>\n",
       "      <td>3</td>\n",
       "      <td>0</td>\n",
       "      <td>1</td>\n",
       "    </tr>\n",
       "  </tbody>\n",
       "</table>\n",
       "</div>"
      ],
      "text/plain": [
       "   Wife's age  Wife's education  Husband's education  \\\n",
       "0          45                 1                    3   \n",
       "1          43                 2                    3   \n",
       "2          42                 3                    2   \n",
       "3          36                 3                    3   \n",
       "4          19                 4                    4   \n",
       "\n",
       "   Number of children ever born  Wife's religion  Wife's now working  \\\n",
       "0                            10                1                   1   \n",
       "1                             7                1                   1   \n",
       "2                             9                1                   1   \n",
       "3                             8                1                   1   \n",
       "4                             0                1                   1   \n",
       "\n",
       "   Husband's occupation  Standard of living index  Media exposure  \\\n",
       "0                     3                         4               0   \n",
       "1                     3                         4               0   \n",
       "2                     3                         3               0   \n",
       "3                     3                         2               0   \n",
       "4                     3                         3               0   \n",
       "\n",
       "   Contraceptive method used  \n",
       "0                          1  \n",
       "1                          1  \n",
       "2                          1  \n",
       "3                          1  \n",
       "4                          1  "
      ]
     },
     "execution_count": 125,
     "metadata": {},
     "output_type": "execute_result"
    }
   ],
   "source": [
    "df_cmc.head(5)"
   ]
  },
  {
   "cell_type": "code",
   "execution_count": 53,
   "id": "d199ec25",
   "metadata": {},
   "outputs": [
    {
     "data": {
      "text/plain": [
       "Wife's age                      34\n",
       "Wife's education                 4\n",
       "Husband's education              4\n",
       "Number of children ever born    15\n",
       "Wife's religion                  2\n",
       "Wife's now working               2\n",
       "Husband's occupation             4\n",
       "Standard of living index         4\n",
       "Media exposure                   2\n",
       "Contraceptive method used        3\n",
       "dtype: int64"
      ]
     },
     "execution_count": 53,
     "metadata": {},
     "output_type": "execute_result"
    }
   ],
   "source": [
    "df_cmc.nunique()"
   ]
  },
  {
   "cell_type": "code",
   "execution_count": 54,
   "id": "0ca5a325",
   "metadata": {},
   "outputs": [
    {
     "data": {
      "text/plain": [
       "(1472, 10)"
      ]
     },
     "execution_count": 54,
     "metadata": {},
     "output_type": "execute_result"
    }
   ],
   "source": [
    "df_cmc.shape"
   ]
  },
  {
   "cell_type": "code",
   "execution_count": 55,
   "id": "b1334712",
   "metadata": {},
   "outputs": [],
   "source": [
    "df_cmc.columns=df_cmc.columns.str.replace(\" \",'_').str.lower()"
   ]
  },
  {
   "cell_type": "code",
   "execution_count": 56,
   "id": "188ac7b3",
   "metadata": {},
   "outputs": [
    {
     "data": {
      "text/plain": [
       "Index(['wife's_age', 'wife's_education', 'husband's_education',\n",
       "       'number_of_children_ever_born', 'wife's_religion', 'wife's_now_working',\n",
       "       'husband's_occupation', 'standard_of_living_index', 'media_exposure',\n",
       "       'contraceptive_method_used'],\n",
       "      dtype='object')"
      ]
     },
     "execution_count": 56,
     "metadata": {},
     "output_type": "execute_result"
    }
   ],
   "source": [
    "df_cmc.columns"
   ]
  },
  {
   "cell_type": "code",
   "execution_count": 57,
   "id": "523b22e7",
   "metadata": {},
   "outputs": [
    {
     "data": {
      "text/plain": [
       "wife's_age                      0\n",
       "wife's_education                0\n",
       "husband's_education             0\n",
       "number_of_children_ever_born    0\n",
       "wife's_religion                 0\n",
       "wife's_now_working              0\n",
       "husband's_occupation            0\n",
       "standard_of_living_index        0\n",
       "media_exposure                  0\n",
       "contraceptive_method_used       0\n",
       "dtype: int64"
      ]
     },
     "execution_count": 57,
     "metadata": {},
     "output_type": "execute_result"
    }
   ],
   "source": [
    "df_cmc.isnull().sum()"
   ]
  },
  {
   "cell_type": "code",
   "execution_count": 58,
   "id": "97d9d4f6",
   "metadata": {},
   "outputs": [
    {
     "name": "stdout",
     "output_type": "stream",
     "text": [
      "<class 'pandas.core.frame.DataFrame'>\n",
      "RangeIndex: 1472 entries, 0 to 1471\n",
      "Data columns (total 10 columns):\n",
      " #   Column                        Non-Null Count  Dtype\n",
      "---  ------                        --------------  -----\n",
      " 0   wife's_age                    1472 non-null   int64\n",
      " 1   wife's_education              1472 non-null   int64\n",
      " 2   husband's_education           1472 non-null   int64\n",
      " 3   number_of_children_ever_born  1472 non-null   int64\n",
      " 4   wife's_religion               1472 non-null   int64\n",
      " 5   wife's_now_working            1472 non-null   int64\n",
      " 6   husband's_occupation          1472 non-null   int64\n",
      " 7   standard_of_living_index      1472 non-null   int64\n",
      " 8   media_exposure                1472 non-null   int64\n",
      " 9   contraceptive_method_used     1472 non-null   int64\n",
      "dtypes: int64(10)\n",
      "memory usage: 115.1 KB\n"
     ]
    }
   ],
   "source": [
    "df_cmc.info()"
   ]
  },
  {
   "cell_type": "markdown",
   "id": "d7e0c7f1",
   "metadata": {},
   "source": [
    "The dataset has 1472 rows and 10 columns with  contraceptive_method_used being the target variable.\n",
    "\n",
    "Attribute Information:\n",
    "\n",
    "1.wife's age(numerical)\n",
    "\n",
    "2.wife's education(categorical)1=low,2,3,4=high\n",
    "\n",
    "3.husband's education(categorical)1=low,2,3,4=high\n",
    "\n",
    "4.number of children ever born (numerical)\n",
    "\n",
    "5.wife's religion(categorical) 0=Yes,1=No\n",
    "\n",
    "6.wife's now working(categorical) 0=Yes,1=No\n",
    "\n",
    "7.husband's occupation(categorical)1,2,3,4\n",
    "\n",
    "8.standard of living index(categorical)1=low,2,3,4=high\n",
    "\n",
    "9.media exposure(categorical)0=Good,1=Not good\n",
    "\n",
    "10.contraceptive method used(categorical)1=No-use 2=Long-term 3=Short-term\n",
    "\n",
    "Missing Values:None"
   ]
  },
  {
   "cell_type": "markdown",
   "id": "cf859458",
   "metadata": {},
   "source": [
    "## Exploratory data analysis"
   ]
  },
  {
   "cell_type": "code",
   "execution_count": 59,
   "id": "f7fa46ad",
   "metadata": {},
   "outputs": [],
   "source": [
    "columns=[\"wife's_age\", \"wife's_education\", \"husband's_education\",\n",
    "       'number_of_children_ever_born', \"wife's_religion\",\n",
    "       \"husband's_occupation\", \"wife's_now_working\",\n",
    "       'standard_of_living_index', 'standard_of_living_index','media_exposure',\n",
    "       'contraceptive_method_used']"
   ]
  },
  {
   "cell_type": "code",
   "execution_count": 60,
   "id": "2a2b66ea",
   "metadata": {},
   "outputs": [
    {
     "data": {
      "text/plain": [
       "[\"wife's_education\",\n",
       " \"husband's_education\",\n",
       " \"wife's_religion\",\n",
       " \"wife's_now_working\",\n",
       " \"husband's_occupation\",\n",
       " 'standard_of_living_index',\n",
       " 'media_exposure']"
      ]
     },
     "execution_count": 60,
     "metadata": {},
     "output_type": "execute_result"
    }
   ],
   "source": [
    "numerical_discrete = []\n",
    "numerical_continous=[]\n",
    "for column in df_cmc.columns:\n",
    "        if df_cmc[column].nunique() < 10:\n",
    "            numerical_discrete.append(column)\n",
    "        else:\n",
    "            numerical_continous.append(column)               \n",
    "numerical_discrete.remove('contraceptive_method_used')\n",
    "numerical_discrete"
   ]
  },
  {
   "cell_type": "code",
   "execution_count": 61,
   "id": "00b89433",
   "metadata": {},
   "outputs": [
    {
     "data": {
      "text/plain": [
       "[\"wife's_age\", 'number_of_children_ever_born']"
      ]
     },
     "execution_count": 61,
     "metadata": {},
     "output_type": "execute_result"
    }
   ],
   "source": [
    "numerical_continous"
   ]
  },
  {
   "cell_type": "markdown",
   "id": "296a39e7",
   "metadata": {},
   "source": [
    "### Univariate Analysis"
   ]
  },
  {
   "cell_type": "code",
   "execution_count": 14,
   "id": "d6d1abd9",
   "metadata": {},
   "outputs": [
    {
     "data": {
      "image/png": "[encoded data removed]",
      "text/plain": [
       "<Figure size 720x360 with 2 Axes>"
      ]
     },
     "metadata": {
      "needs_background": "light"
     },
     "output_type": "display_data"
    }
   ],
   "source": [
    "##Plotting the outliers\n",
    "fig,ax=plt.subplots(1,2,figsize=(10,5))\n",
    "fig.suptitle('Box Plots')\n",
    "sns.boxplot(data=df_cmc,y=\"wife's_age\",ax=ax[0])\n",
    "ax[0].set_title('Age boxplot')\n",
    "sns.boxplot(data=df_cmc,y=\"number_of_children_ever_born\",ax=ax[1])\n",
    "ax[1].set_title('No of children boxplot')\n",
    "plt.show()\n"
   ]
  },
  {
   "cell_type": "markdown",
   "id": "a3777a5b",
   "metadata": {},
   "source": [
    "Plotted box plots for the continous variables.The no of children born had many outliers"
   ]
  },
  {
   "cell_type": "markdown",
   "id": "f4ca6325",
   "metadata": {},
   "source": [
    "Count plots of the categorical variables."
   ]
  },
  {
   "cell_type": "code",
   "execution_count": null,
   "id": "0f6c8373",
   "metadata": {
    "scrolled": true
   },
   "outputs": [],
   "source": [
    "fig,axes=plt.subplots(4,2,figsize=(20,20))\n",
    "sns.color_palette(\"flare\")\n",
    "sns.countplot(ax=axes[0,0],data=df_cmc,x=\"wife's_education\",palette=\"flare\")\n",
    "sns.countplot(ax=axes[0,1],data=df_cmc,x=\"husband's_education\",palette=\"flare\")\n",
    "sns.countplot(ax=axes[1,0],data=df_cmc,x=\"wife's_religion\",palette=\"flare\")\n",
    "sns.countplot(ax=axes[1,1],data=df_cmc,x=\"wife's_now_working\",palette=\"flare\")\n",
    "sns.countplot(ax=axes[2,0],data=df_cmc,x=\"husband's_occupation\",palette=\"flare\")\n",
    "sns.countplot(ax=axes[2,1],data=df_cmc,x=\"standard_of_living_index\",palette=\"flare\")\n",
    "sns.countplot(ax=axes[3,0],data=df_cmc,x=\"media_exposure\",palette=\"flare\")\n",
    "sns.countplot(ax=axes[3,1],data=df_cmc,x=\"contraceptive_method_used\",palette=\"flare\")"
   ]
  },
  {
   "cell_type": "code",
   "execution_count": null,
   "id": "24003c6a",
   "metadata": {
    "scrolled": true
   },
   "outputs": [],
   "source": [
    "#plotting the numerical variables\n",
    "fig,ax=plt.subplots(1,2,figsize=(10,5))\n",
    "fig.suptitle('Continous Variable Plots')\n",
    "sns.histplot(data=df_cmc,x=\"wife's_age\",ax=ax[0])\n",
    "sns.histplot(data=df_cmc,x=\"number_of_children_ever_born\",ax=ax[1])\n",
    "sns.despine()"
   ]
  },
  {
   "cell_type": "markdown",
   "id": "c5317ebb",
   "metadata": {},
   "source": [
    "fig,ax=plt.subplots(1,2,figsize=(10,5))\n",
    "sns.countplot(data=df_cmc,x=\"wife's_age\",bins=10,ax=ax[0])\n",
    "sns.countplot(data=df_cmc,x=\"number_of_children_ever_born\",bins=5,ax=ax[1])"
   ]
  },
  {
   "cell_type": "markdown",
   "id": "9af96720",
   "metadata": {},
   "source": [
    "### Bivariate Analysis"
   ]
  },
  {
   "cell_type": "code",
   "execution_count": null,
   "id": "3b7dcbfa",
   "metadata": {},
   "outputs": [],
   "source": [
    "fig,ax=plt.subplots(1,2,figsize=(10,5))\n",
    "fig.suptitle('Continous Variable Plots')\n",
    "sns.boxplot(data=df_cmc,x='contraceptive_method_used',y=\"wife's_age\",hue='contraceptive_method_used',ax=ax[0])\n",
    "sns.boxplot(data=df_cmc,x='contraceptive_method_used',y=\"number_of_children_ever_born\",hue='contraceptive_method_used',ax=ax[1])"
   ]
  },
  {
   "cell_type": "code",
   "execution_count": null,
   "id": "638c28aa",
   "metadata": {},
   "outputs": [],
   "source": [
    "#plotting the numerical variables\n",
    "fig,ax=plt.subplots(1,2,figsize=(10,5))\n",
    "fig.suptitle('Continous Variable Plots')\n",
    "sns.histplot(data=df_cmc,x=\"wife's_age\",hue=\"contraceptive_method_used\",ax=ax[0],palette='gnuplot2_r')\n",
    "sns.histplot(data=df_cmc,x=\"number_of_children_ever_born\",hue=\"contraceptive_method_used\",ax=ax[1],palette='gnuplot2_r')\n",
    "sns.despine()"
   ]
  },
  {
   "cell_type": "code",
   "execution_count": null,
   "id": "ce19e7d8",
   "metadata": {},
   "outputs": [],
   "source": [
    "fig,axes=plt.subplots(4,2,figsize=(20,20))\n",
    "sns.color_palette(\"flare\")\n",
    "sns.countplot(ax=axes[0,0],data=df_cmc,x=\"wife's_education\",hue=\"contraceptive_method_used\",palette=\"flare\")\n",
    "sns.countplot(ax=axes[0,1],data=df_cmc,x=\"husband's_education\",hue=\"contraceptive_method_used\",palette=\"flare\")\n",
    "sns.countplot(ax=axes[1,0],data=df_cmc,x=\"wife's_religion\",hue=\"contraceptive_method_used\",palette=\"flare\")\n",
    "sns.countplot(ax=axes[1,1],data=df_cmc,x=\"wife's_now_working\",hue=\"contraceptive_method_used\",palette=\"flare\")\n",
    "sns.countplot(ax=axes[2,0],data=df_cmc,x=\"husband's_occupation\",hue=\"contraceptive_method_used\",palette=\"flare\")\n",
    "sns.countplot(ax=axes[2,1],data=df_cmc,x=\"standard_of_living_index\",hue=\"contraceptive_method_used\",palette=\"flare\")\n",
    "sns.countplot(ax=axes[3,0],data=df_cmc,x=\"media_exposure\",hue=\"contraceptive_method_used\",palette=\"flare\")"
   ]
  },
  {
   "cell_type": "markdown",
   "id": "b9b482aa",
   "metadata": {},
   "source": [
    "what demographics are most popular with contraceptive users\n",
    "advert to contraceptive users\n"
   ]
  },
  {
   "cell_type": "markdown",
   "id": "05e0b70e",
   "metadata": {},
   "source": [
    "### preprocessing "
   ]
  },
  {
   "cell_type": "code",
   "execution_count": 62,
   "id": "48d8a0ab",
   "metadata": {},
   "outputs": [],
   "source": [
    "def remove_outlier(column):\n",
    "    q25 = column.quantile(0.25)\n",
    "    q75 = column.quantile(0.75)\n",
    "    iqr = q75 - q25\n",
    "    cutoff = iqr * 1.5\n",
    "    lower = q25 - cutoff\n",
    "    upper = q75 + cutoff\n",
    "    return lower, upper"
   ]
  },
  {
   "cell_type": "code",
   "execution_count": 63,
   "id": "a8d682c9",
   "metadata": {},
   "outputs": [],
   "source": [
    "for column in numerical_continous:\n",
    "    lower, upper = remove_outlier(df_cmc[column])\n",
    "    df_cmc = df_cmc.loc[(df_cmc[column] > lower) & (df_cmc[column] < upper)]"
   ]
  },
  {
   "cell_type": "code",
   "execution_count": 65,
   "id": "fb073d21",
   "metadata": {},
   "outputs": [
    {
     "data": {
      "text/plain": [
       "<AxesSubplot:>"
      ]
     },
     "execution_count": 65,
     "metadata": {},
     "output_type": "execute_result"
    },
    {
     "data": {
      "image/png": "[encoded data removed]",
      "text/plain": [
       "<Figure size 864x576 with 1 Axes>"
      ]
     },
     "metadata": {
      "needs_background": "light"
     },
     "output_type": "display_data"
    }
   ],
   "source": [
    "df_cmc[numerical_continous].plot.box(figsize = (12, 8))"
   ]
  },
  {
   "cell_type": "code",
   "execution_count": 67,
   "id": "322ac780",
   "metadata": {},
   "outputs": [
    {
     "data": {
      "text/plain": [
       "(1443, 10)"
      ]
     },
     "execution_count": 67,
     "metadata": {},
     "output_type": "execute_result"
    }
   ],
   "source": [
    "df_cmc.shape"
   ]
  },
  {
   "cell_type": "code",
   "execution_count": 66,
   "id": "b857f969",
   "metadata": {},
   "outputs": [],
   "source": [
    "le = LabelEncoder()\n",
    "for column in numerical_continous: \n",
    "    df_cmc[column] = pd.qcut(df_cmc[column], q = [0, 0.25, 0.50, 0.75, 1])\n",
    "    df_cmc[column] = le.fit_transform(df_cmc[column])"
   ]
  },
  {
   "cell_type": "code",
   "execution_count": 68,
   "id": "042c1d2f",
   "metadata": {},
   "outputs": [
    {
     "data": {
      "text/plain": [
       "<AxesSubplot:xlabel='number_of_children_ever_born', ylabel='count'>"
      ]
     },
     "execution_count": 68,
     "metadata": {},
     "output_type": "execute_result"
    },
    {
     "data": {
      "image/png": "[encoded data removed]",
      "text/plain": [
       "<Figure size 720x360 with 2 Axes>"
      ]
     },
     "metadata": {
      "needs_background": "light"
     },
     "output_type": "display_data"
    }
   ],
   "source": [
    "fig,ax=plt.subplots(1,2,figsize=(10,5))\n",
    "sns.countplot(data=df_cmc,x=\"wife's_age\",ax=ax[0])\n",
    "sns.countplot(data=df_cmc,x=\"number_of_children_ever_born\",ax=ax[1])"
   ]
  },
  {
   "cell_type": "code",
   "execution_count": null,
   "id": "65152823",
   "metadata": {},
   "outputs": [],
   "source": [
    "#heatmap\n",
    "corr=df_cmc.corr()\n",
    "mask=np.zeros_like(corr,dtype=bool)\n",
    "mask[np.triu_indices_from(mask)]=True\n",
    "f,ax=plt.subplots(figsize=(17,15))\n",
    "cmap=\"YlGnBu\"\n",
    "ax.set_title('Correlation')\n",
    "sns.heatmap(corr,mask=mask,cmap=cmap,vmax=1,center=0,square=True,annot=True,linewidth=.5,cbar_kws={'shrink':.5})"
   ]
  },
  {
   "cell_type": "markdown",
   "id": "6e746c53",
   "metadata": {},
   "source": [
    "From the heatmap:\n",
    "There is low positive and negative correlation between the features and the target variable(contraceptive method used).\n",
    "\n",
    "Husbands education and wifes education are highly positively correlated with a correlation of 0.62 and also number of children \n",
    "and wifes age with a correlation of 0.52."
   ]
  },
  {
   "cell_type": "markdown",
   "id": "10114cb6",
   "metadata": {},
   "source": [
    "## Model Building"
   ]
  },
  {
   "cell_type": "markdown",
   "id": "e627dc0b",
   "metadata": {},
   "source": [
    "Our data is already encoded  so we'll use as it is."
   ]
  },
  {
   "cell_type": "markdown",
   "id": "082272f0",
   "metadata": {},
   "source": [
    "## Feature Selection /Dimentionalty reduction"
   ]
  },
  {
   "cell_type": "code",
   "execution_count": 69,
   "id": "24201ec7",
   "metadata": {},
   "outputs": [],
   "source": [
    "x=df_cmc.drop('contraceptive_method_used',axis=1)\n",
    "y=df_cmc['contraceptive_method_used']"
   ]
  },
  {
   "cell_type": "code",
   "execution_count": 70,
   "id": "1e8db835",
   "metadata": {},
   "outputs": [
    {
     "data": {
      "image/png": "[encoded data removed]",
      "text/plain": [
       "<Figure size 432x288 with 1 Axes>"
      ]
     },
     "metadata": {
      "needs_background": "light"
     },
     "output_type": "display_data"
    }
   ],
   "source": [
    "from sklearn.ensemble import ExtraTreesClassifier\n",
    "\n",
    "fi = ExtraTreesClassifier()\n",
    "fi.fit(x, y)\n",
    "\n",
    "df_fi_a = pd.DataFrame(fi.fit(x,y).feature_importances_,index=x.columns)\n",
    "df_fi_a.nlargest(10,df_fi_a.columns).plot(kind='barh')\n",
    "plt.show()"
   ]
  },
  {
   "cell_type": "markdown",
   "id": "4a10a058",
   "metadata": {},
   "source": [
    "#### Chisquare Test\n",
    "HO: Independent\n",
    "\n",
    "H1:Not Independen"
   ]
  },
  {
   "cell_type": "code",
   "execution_count": 71,
   "id": "0a93c006",
   "metadata": {},
   "outputs": [
    {
     "name": "stdout",
     "output_type": "stream",
     "text": [
      "                         Column                      Hypothesis\n",
      "0                    wife's_age          Reject Null Hypothesis\n",
      "1              wife's_education          Reject Null Hypothesis\n",
      "2           husband's_education          Reject Null Hypothesis\n",
      "3  number_of_children_ever_born          Reject Null Hypothesis\n",
      "4               wife's_religion          Reject Null Hypothesis\n",
      "5            wife's_now_working  Fail to Reject Null Hypothesis\n",
      "6          husband's_occupation          Reject Null Hypothesis\n",
      "7      standard_of_living_index          Reject Null Hypothesis\n",
      "8                media_exposure          Reject Null Hypothesis\n"
     ]
    }
   ],
   "source": [
    "chi2_check = []\n",
    "for column in x.columns:\n",
    "    if (chi2_contingency(pd.crosstab(df_cmc['contraceptive_method_used'], df_cmc[column]))[1] < 0.05):\n",
    "        chi2_check.append('Reject Null Hypothesis')\n",
    "    else:\n",
    "        chi2_check.append('Fail to Reject Null Hypothesis')\n",
    "res = pd.DataFrame(data = [x.columns, chi2_check]).T \n",
    "res.columns = ['Column', 'Hypothesis']\n",
    "print(res)"
   ]
  },
  {
   "cell_type": "code",
   "execution_count": 72,
   "id": "55167b57",
   "metadata": {},
   "outputs": [
    {
     "data": {
      "text/plain": [
       "0                      wife's_age\n",
       "1                wife's_education\n",
       "2             husband's_education\n",
       "3    number_of_children_ever_born\n",
       "4                 wife's_religion\n",
       "6            husband's_occupation\n",
       "7        standard_of_living_index\n",
       "8                  media_exposure\n",
       "Name: Column, dtype: object"
      ]
     },
     "execution_count": 72,
     "metadata": {},
     "output_type": "execute_result"
    }
   ],
   "source": [
    "res[res['Hypothesis'] == 'Reject Null Hypothesis']['Column']"
   ]
  },
  {
   "cell_type": "code",
   "execution_count": 73,
   "id": "c8c68fa8",
   "metadata": {},
   "outputs": [],
   "source": [
    "chi_scores=chi2(x,y)"
   ]
  },
  {
   "cell_type": "code",
   "execution_count": 74,
   "id": "ed4e1f54",
   "metadata": {},
   "outputs": [],
   "source": [
    "chi_scores\n",
    "\n",
    "p_values=pd.Series(chi_scores[1],index=x.columns)\n",
    "p_values.sort_values(ascending =False,inplace=True)"
   ]
  },
  {
   "cell_type": "code",
   "execution_count": 75,
   "id": "f032906c",
   "metadata": {},
   "outputs": [
    {
     "data": {
      "text/plain": [
       "<AxesSubplot:>"
      ]
     },
     "execution_count": 75,
     "metadata": {},
     "output_type": "execute_result"
    },
    {
     "data": {
      "image/png": "[encoded data removed]",
      "text/plain": [
       "<Figure size 432x288 with 1 Axes>"
      ]
     },
     "metadata": {
      "needs_background": "light"
     },
     "output_type": "display_data"
    }
   ],
   "source": [
    "p_values.plot.bar()"
   ]
  },
  {
   "cell_type": "markdown",
   "id": "87fa7732",
   "metadata": {},
   "source": [
    "since wifes now working has a higher p-value ,it says that this variable is \n",
    "independent of the response and cannot be cosidered for model training."
   ]
  },
  {
   "cell_type": "code",
   "execution_count": 76,
   "id": "1e1ba535",
   "metadata": {},
   "outputs": [
    {
     "name": "stdout",
     "output_type": "stream",
     "text": [
      "Score list: [52.88083819 43.50375109  8.82303276 41.60125671  3.26989292  1.32858768\n",
      " 18.28991001 17.8413632  27.66258036]\n",
      "Feature list: Index(['wife's_age', 'wife's_education', 'husband's_education',\n",
      "       'number_of_children_ever_born', 'wife's_religion', 'wife's_now_working',\n",
      "       'husband's_occupation', 'standard_of_living_index', 'media_exposure'],\n",
      "      dtype='object')\n"
     ]
    }
   ],
   "source": [
    "select_feature=SelectKBest(chi2,k=5).fit(x,y)\n",
    "print('Score list:',select_feature.scores_)\n",
    "print('Feature list:',x.columns)"
   ]
  },
  {
   "cell_type": "code",
   "execution_count": 77,
   "id": "3892970c",
   "metadata": {},
   "outputs": [
    {
     "data": {
      "text/plain": [
       "SelectKBest(k=5, score_func=<function chi2 at 0x09939778>)"
      ]
     },
     "execution_count": 77,
     "metadata": {},
     "output_type": "execute_result"
    }
   ],
   "source": [
    "select_feature"
   ]
  },
  {
   "cell_type": "markdown",
   "id": "6c3852de",
   "metadata": {},
   "source": [
    "## Principal Component Analysis"
   ]
  },
  {
   "cell_type": "code",
   "execution_count": null,
   "id": "60210ddf",
   "metadata": {},
   "outputs": [],
   "source": [
    "PCA is a dimensionality reduction method that is used to reduce dimensionality of large datasets by transforming large set\n",
    "of variables into smaller one that still contains "
   ]
  },
  {
   "cell_type": "markdown",
   "id": "7f962485",
   "metadata": {},
   "source": [
    "### Splitting"
   ]
  },
  {
   "cell_type": "code",
   "execution_count": 78,
   "id": "92f88e94",
   "metadata": {},
   "outputs": [],
   "source": [
    "from sklearn.model_selection import train_test_split, cross_val_score\n",
    "\n",
    "X_selected = x[res[res['Hypothesis'] == 'Reject Null Hypothesis']['Column']]\n",
    "X_selected\n",
    "\n",
    "X_train, X_test, y_train, y_test = train_test_split(X_selected, y, test_size = 0.3, random_state = 0)"
   ]
  },
  {
   "cell_type": "markdown",
   "id": "bc908dbc",
   "metadata": {},
   "source": [
    "### Standardization"
   ]
  },
  {
   "cell_type": "code",
   "execution_count": 79,
   "id": "5aa19b9b",
   "metadata": {},
   "outputs": [],
   "source": [
    "from sklearn.preprocessing import StandardScaler\n",
    "scaler = StandardScaler()\n",
    "\n",
    "X_train = scaler.fit_transform(X_train)\n",
    "X_test = scaler.transform(X_test)"
   ]
  },
  {
   "cell_type": "code",
   "execution_count": 80,
   "id": "31d7bffe",
   "metadata": {},
   "outputs": [
    {
     "data": {
      "text/plain": [
       "1    436\n",
       "3    364\n",
       "2    210\n",
       "Name: contraceptive_method_used, dtype: int64"
      ]
     },
     "execution_count": 80,
     "metadata": {},
     "output_type": "execute_result"
    }
   ],
   "source": [
    "y_train.value_counts()"
   ]
  },
  {
   "cell_type": "markdown",
   "id": "5b5ae5ab",
   "metadata": {},
   "source": [
    "### Oversampling"
   ]
  },
  {
   "cell_type": "code",
   "execution_count": 81,
   "id": "519b12f8",
   "metadata": {},
   "outputs": [
    {
     "name": "stdout",
     "output_type": "stream",
     "text": [
      "Counter({1: 436, 2: 436, 3: 436})\n",
      "Counter({1: 173, 2: 173, 3: 173})\n"
     ]
    }
   ],
   "source": [
    "from imblearn.over_sampling import SMOTE\n",
    "from collections import Counter\n",
    "\n",
    "oversample = SMOTE(random_state=42)\n",
    "\n",
    "X_train_over, y_train_over= oversample.fit_resample(X_train, y_train)\n",
    "print(Counter(y_train_over))\n",
    "\n",
    "X_test_over, y_test_over = oversample.fit_resample(X_test, y_test)\n",
    "print(Counter(y_test_over))"
   ]
  },
  {
   "cell_type": "markdown",
   "id": "3dad17ae",
   "metadata": {},
   "source": [
    "## Classification models"
   ]
  },
  {
   "cell_type": "code",
   "execution_count": 82,
   "id": "4a252613",
   "metadata": {},
   "outputs": [],
   "source": [
    "from sklearn.metrics import confusion_matrix, classification_report, accuracy_score\n",
    "log_reg = LogisticRegression(random_state = 0)\n",
    "svm_clf = SVC(random_state = 0)\n",
    "knn_clf = KNeighborsClassifier()\n",
    "rf_clf = RandomForestClassifier(random_state = 0)\n",
    "dt_clf=DecisionTreeClassifier()\n",
    "\n",
    "classifiers = {'LogisticRegression': log_reg, 'SVC': svm_clf, 'KNeighborsClassifier': knn_clf,\n",
    "          'RandomForestClassifier': rf_clf,'DecisionTreeClassifier':dt_clf}"
   ]
  },
  {
   "cell_type": "code",
   "execution_count": 83,
   "id": "4c090a83",
   "metadata": {},
   "outputs": [],
   "source": [
    "def model_training_testing(classifiers):\n",
    "    for model_name, model in classifiers.items():\n",
    "        model.fit(X_train_over, y_train_over)\n",
    "        y_predict_train = model.predict(X_train_over)\n",
    "        y_predict_test = model.predict(X_test_over)\n",
    "        print(f'{model_name} Training Accuracy:', accuracy_score(y_train_over, np.round(y_predict_train)))\n",
    "        print(f'{model_name} Testing Accuracy:', accuracy_score(y_test_over, np.round(y_predict_test)))\n",
    "        print('\\n')"
   ]
  },
  {
   "cell_type": "code",
   "execution_count": 84,
   "id": "b17b9d15",
   "metadata": {},
   "outputs": [
    {
     "name": "stdout",
     "output_type": "stream",
     "text": [
      "LogisticRegression Training Accuracy: 0.5290519877675841\n",
      "LogisticRegression Testing Accuracy: 0.5183044315992292\n",
      "\n",
      "\n",
      "SVC Training Accuracy: 0.6353211009174312\n",
      "SVC Testing Accuracy: 0.5433526011560693\n",
      "\n",
      "\n",
      "KNeighborsClassifier Training Accuracy: 0.6827217125382263\n",
      "KNeighborsClassifier Testing Accuracy: 0.48940269749518306\n",
      "\n",
      "\n",
      "RandomForestClassifier Training Accuracy: 0.8394495412844036\n",
      "RandomForestClassifier Testing Accuracy: 0.4816955684007707\n",
      "\n",
      "\n",
      "DecisionTreeClassifier Training Accuracy: 0.8394495412844036\n",
      "DecisionTreeClassifier Testing Accuracy: 0.441233140655106\n",
      "\n",
      "\n"
     ]
    }
   ],
   "source": [
    "model_training_testing(classifiers)"
   ]
  },
  {
   "cell_type": "markdown",
   "id": "cbcad830",
   "metadata": {},
   "source": [
    "SVC has the best training and testing scores compared to the other models.\n",
    "Random Forest classifier has the best training score but the testing score isnt that good."
   ]
  },
  {
   "cell_type": "markdown",
   "id": "99832046",
   "metadata": {},
   "source": [
    "### Hyperparameter tuning"
   ]
  },
  {
   "cell_type": "markdown",
   "id": "2c8ec527",
   "metadata": {},
   "source": [
    "#### Logistic Regression "
   ]
  },
  {
   "cell_type": "code",
   "execution_count": 86,
   "id": "98c7a47e",
   "metadata": {},
   "outputs": [],
   "source": [
    "lr = LogisticRegression()\n",
    "lr_params = {\"penalty\": ['l2'], \"C\": [0.001, 0.01, 0.1, 1, 10, 100, 1000],\n",
    "                  \"solver\": ['newton-cg', 'lbfgs', 'liblinear', 'sag', 'saga']}\n",
    "grid_logistic = GridSearchCV(lr, lr_params)\n",
    "grid_logistic.fit(x, y)\n",
    "lr_best = grid_logistic.best_estimator_\n",
    "besst=lr_best.fit(X_train,y_train)\n"
   ]
  },
  {
   "cell_type": "code",
   "execution_count": 96,
   "id": "2d92f26a",
   "metadata": {},
   "outputs": [],
   "source": [
    "lr_tuned=lr_best.fit(X_train,y_train)"
   ]
  },
  {
   "cell_type": "code",
   "execution_count": 99,
   "id": "9dce6ba1",
   "metadata": {},
   "outputs": [],
   "source": [
    "def model_evaluation(model, x, y, model_name):\n",
    "    y_predict = model.predict(x)\n",
    "    print(f'Accuracy Score:', accuracy_score(y_test, np.round(y_predict_test)))\n",
    "    print(f'Model: {model_name} \\n \\n Classification Report: {classification_report(y, y_predict)}')\n",
    "\n",
    "    cnf_matrix = confusion_matrix(y, y_predict)\n",
    "    \n",
    "    class_names = [0, 1]\n",
    "    tick_marks = np.arange(len(class_names))\n",
    "    plt.figure(figsize = (9, 7))\n",
    "\n",
    "    sns.heatmap(pd.DataFrame(cnf_matrix), annot = True, cmap = \"YlGnBu\", fmt = 'g')\n",
    "\n",
    "    plt.title(f'{model_name} Confusion Matrix', y = 1.1, fontsize = 22)\n",
    "    plt.ylabel('Actual Label', fontsize = 15)\n",
    "    plt.xlabel('Predicted Label', fontsize = 15)\n"
   ]
  },
  {
   "cell_type": "code",
   "execution_count": 100,
   "id": "b76b2e13",
   "metadata": {
    "scrolled": true
   },
   "outputs": [
    {
     "name": "stdout",
     "output_type": "stream",
     "text": [
      "Accuracy Score: 0.48498845265588914\n",
      "Model: Linear Regression Classifier Tuned \n",
      " \n",
      " Classification Report:               precision    recall  f1-score   support\n",
      "\n",
      "           1       0.52      0.68      0.59       173\n",
      "           2       0.56      0.31      0.40       118\n",
      "           3       0.39      0.40      0.40       142\n",
      "\n",
      "    accuracy                           0.48       433\n",
      "   macro avg       0.49      0.46      0.46       433\n",
      "weighted avg       0.49      0.48      0.47       433\n",
      "\n"
     ]
    },
    {
     "data": {
      "image/png": "[encoded data removed]",
      "text/plain": [
       "<Figure size 648x504 with 2 Axes>"
      ]
     },
     "metadata": {
      "needs_background": "light"
     },
     "output_type": "display_data"
    }
   ],
   "source": [
    "model_evaluation(lr_tuned, X_test, y_test, model_name = 'Linear Regression Classifier Tuned')"
   ]
  },
  {
   "cell_type": "markdown",
   "id": "a07f55a2",
   "metadata": {},
   "source": [
    "there is no improvement in the scores ."
   ]
  },
  {
   "cell_type": "markdown",
   "id": "1bd7e8bf",
   "metadata": {},
   "source": [
    "#### svc"
   ]
  },
  {
   "cell_type": "code",
   "execution_count": null,
   "id": "abf01d38",
   "metadata": {},
   "outputs": [],
   "source": [
    "svc = SVC()\n",
    "svc_params = {\"C\": [0.5, 0.7, 0.9, 1], \"kernel\":['rbf', 'poly', 'sigmoid', 'linear']}\n",
    "grid_svc = GridSearchCV(svc, svc_params)\n",
    "grid_svc.fit(X, y)\n",
    "svc_best = grid_svc.best_estimator_\n",
    "model_svc=svc_best.fit(X_train,y_train)"
   ]
  },
  {
   "cell_type": "code",
   "execution_count": null,
   "id": "65289972",
   "metadata": {},
   "outputs": [],
   "source": [
    "y_predict_train = model_svc.predict(X_train)\n",
    "y_predict_test = model_svc.predict(X_test)\n",
    "print(f'svc Training Accuracy:', accuracy_score(y_train, np.round(y_predict_train)))\n",
    "print(f'svc Testing Accuracy:', accuracy_score(y_test, np.round(y_predict_test)))\n",
    "print('\\n')\n"
   ]
  },
  {
   "cell_type": "markdown",
   "id": "4807316a",
   "metadata": {},
   "source": [
    "no improvement in the scores after tuning"
   ]
  },
  {
   "cell_type": "markdown",
   "id": "1e9bdb67",
   "metadata": {},
   "source": [
    "#### Random Forest"
   ]
  },
  {
   "cell_type": "code",
   "execution_count": null,
   "id": "00d0d559",
   "metadata": {},
   "outputs": [],
   "source": [
    "## Random Forest \n",
    "\n",
    "params = {'n_estimators': np.arange(10, 100, 10), 'random_state': [0], 'n_jobs': [1, -1]} \n",
    "grid_search = GridSearchCV(RandomForestClassifier(), params, n_jobs = -1, cv = 5)\n",
    "\n",
    "grid_search.fit(X_train, y_train)\n",
    "\n",
    "rfc_best=grid_search.best_estimator_"
   ]
  },
  {
   "cell_type": "code",
   "execution_count": null,
   "id": "02ec16f4",
   "metadata": {},
   "outputs": [],
   "source": [
    "model_rfc=rfc_best.fit(X_train, y_train)"
   ]
  },
  {
   "cell_type": "code",
   "execution_count": null,
   "id": "e0782f91",
   "metadata": {},
   "outputs": [],
   "source": [
    "y_predict_train = model_rfc.predict(X_train)\n",
    "y_predict_test = model_rfc.predict(X_test)\n",
    "print(f'RandomForestClassifier Training Accuracy:', accuracy_score(y_train, np.round(y_predict_train)))\n",
    "print(f'RandomForestClassifier Testing Accuracy:', accuracy_score(y_test, np.round(y_predict_test)))\n",
    "print('\\n')"
   ]
  },
  {
   "cell_type": "markdown",
   "id": "eddc6a63",
   "metadata": {},
   "source": [
    "no improvement "
   ]
  },
  {
   "cell_type": "markdown",
   "id": "e91380de",
   "metadata": {},
   "source": [
    "#### Decision Tree"
   ]
  },
  {
   "cell_type": "code",
   "execution_count": 109,
   "id": "acc38239",
   "metadata": {},
   "outputs": [],
   "source": [
    "tree = DecisionTreeClassifier()\n",
    "tree_params = {\"criterion\": ['gini', 'entropy'], \n",
    "               \"max_depth\":list(range(2,5,1)),\n",
    "               \"max_features\": [1,2,3,4,5,6,7,8,9],\n",
    "               \"min_samples_leaf\":list(range(5,7,1))}\n",
    "grid_tree = GridSearchCV(tree, tree_params,cv=10)\n",
    "grid_tree.fit(x, y)\n",
    "tree_best = grid_tree.best_estimator_"
   ]
  },
  {
   "cell_type": "code",
   "execution_count": 112,
   "id": "7f8f6519",
   "metadata": {},
   "outputs": [],
   "source": [
    "dt_tuned=tree_best.fit(X_train,y_train)"
   ]
  },
  {
   "cell_type": "code",
   "execution_count": null,
   "id": "0eb96578",
   "metadata": {},
   "outputs": [],
   "source": [
    "y_predict_train = model_dt.predict(X_train)\n",
    "y_predict_test = model_dt.predict(X_test)\n",
    "print(f'DecisionTreeClassifier Training Accuracy:', accuracy_score(y_train, np.round(y_predict_train)))\n",
    "print(f'DecisionTreeClassifier Testing Accuracy:', accuracy_score(y_test, np.round(y_predict_test)))\n",
    "print('\\n')"
   ]
  },
  {
   "cell_type": "code",
   "execution_count": 113,
   "id": "2f4201cf",
   "metadata": {},
   "outputs": [
    {
     "name": "stdout",
     "output_type": "stream",
     "text": [
      "Accuracy Score: 0.48498845265588914\n",
      "Model: Decision Tree Classifier Tuned \n",
      " \n",
      " Classification Report:               precision    recall  f1-score   support\n",
      "\n",
      "           1       0.55      0.52      0.54       173\n",
      "           2       0.59      0.29      0.39       118\n",
      "           3       0.42      0.63      0.51       142\n",
      "\n",
      "    accuracy                           0.49       433\n",
      "   macro avg       0.52      0.48      0.48       433\n",
      "weighted avg       0.52      0.49      0.49       433\n",
      "\n"
     ]
    },
    {
     "data": {
      "image/png": "[encoded data removed]",
      "text/plain": [
       "<Figure size 648x504 with 2 Axes>"
      ]
     },
     "metadata": {
      "needs_background": "light"
     },
     "output_type": "display_data"
    }
   ],
   "source": [
    "model_evaluation(dt_tuned, X_test, y_test, model_name = 'Decision Tree Classifier Tuned')"
   ]
  },
  {
   "cell_type": "markdown",
   "id": "c50c92c4",
   "metadata": {},
   "source": [
    "theres an improvement in the testing scores "
   ]
  },
  {
   "cell_type": "markdown",
   "id": "d42beabf",
   "metadata": {},
   "source": [
    "##### KNearest Neighbors"
   ]
  },
  {
   "cell_type": "code",
   "execution_count": 119,
   "id": "1624d878",
   "metadata": {},
   "outputs": [],
   "source": [
    "\n",
    "knear = KNeighborsClassifier()\n",
    "knear_params = {\"n_neighbors\": list(range(2,7,1)), \"weights\":['uniform','distance'],\n",
    "                \"algorithm\": ['auto', 'ball_tree', 'kd_tree', 'brute'],\n",
    "              \"metric\":['euclidean','manhattan','minkowski'] }\n",
    "grid_knear = GridSearchCV(knear, knear_params,cv=10)\n",
    "grid_knear.fit(x, y)\n",
    "knear_best = grid_knear.best_estimator_"
   ]
  },
  {
   "cell_type": "code",
   "execution_count": 120,
   "id": "24e38ea2",
   "metadata": {},
   "outputs": [],
   "source": [
    "knn_tuned=knear_best.fit(X_train,y_train)"
   ]
  },
  {
   "cell_type": "code",
   "execution_count": 121,
   "id": "b4bb74ee",
   "metadata": {},
   "outputs": [
    {
     "name": "stdout",
     "output_type": "stream",
     "text": [
      "Accuracy Score: 0.48498845265588914\n",
      "Model: KNearest Neighbours Classifier Tuned \n",
      " \n",
      " Classification Report:               precision    recall  f1-score   support\n",
      "\n",
      "           1       0.50      0.59      0.54       173\n",
      "           2       0.48      0.30      0.37       118\n",
      "           3       0.36      0.39      0.37       142\n",
      "\n",
      "    accuracy                           0.45       433\n",
      "   macro avg       0.45      0.43      0.43       433\n",
      "weighted avg       0.45      0.45      0.44       433\n",
      "\n"
     ]
    },
    {
     "data": {
      "image/png": "[encoded data removed]",
      "text/plain": [
       "<Figure size 648x504 with 2 Axes>"
      ]
     },
     "metadata": {
      "needs_background": "light"
     },
     "output_type": "display_data"
    }
   ],
   "source": [
    "model_evaluation(knn_tuned, X_test, y_test, model_name = 'KNearest Neighbours Classifier Tuned')"
   ]
  },
  {
   "cell_type": "markdown",
   "id": "0741c753",
   "metadata": {},
   "source": [
    "no significant improvement in the models performance"
   ]
  },
  {
   "cell_type": "markdown",
   "id": "aea993e1",
   "metadata": {},
   "source": [
    "SVC,decision tree and the linear regression classifier are doing significantly well but can we do better?"
   ]
  },
  {
   "cell_type": "code",
   "execution_count": null,
   "id": "31d9c44f",
   "metadata": {},
   "outputs": [],
   "source": [
    "from sklearn.calibration import CalibratedClassifierCV\n",
    "model=svc_clf_tuned\n",
    "model=CalibratedClassifierCV(model)\n",
    "model.fit(X_train,y_train)"
   ]
  },
  {
   "cell_type": "code",
   "execution_count": null,
   "id": "18258488",
   "metadata": {},
   "outputs": [],
   "source": [
    "from sklearn.metrics import roc_auc_score, roc_curve\n",
    "\n",
    "y_pred_prob = roc_auc_score(y_test,model.predict_proba(X_test),multi_class='ovr')\n",
    "print(f'Area Under the Curve Score: {y_pred_prob}')"
   ]
  },
  {
   "cell_type": "code",
   "execution_count": null,
   "id": "4b4e5d19",
   "metadata": {},
   "outputs": [],
   "source": [
    "fpr, tpr, thresholds = roc_curve(y_test, y_pred_prob)\n",
    "\n",
    "df_roc = pd.DataFrame([fpr, tpr]).T\n",
    "df_roc.columns = ['False Positive Ratio', 'True Positive Ratio']\n",
    "\n",
    "import plotly.express as px\n",
    "\n",
    "fig = px.line(df_roc, x = 'False Positive Ratio', y = 'True Positive Ratio')\n",
    "fig.update_layout(title = dict(text = \"ROC Curve.\", y = 0.95, x = 0.5,\n",
    "                               xanchor = 'center', yanchor = 'top', font = dict(size = 20))) "
   ]
  },
  {
   "cell_type": "code",
   "execution_count": null,
   "id": "ae7714d3",
   "metadata": {},
   "outputs": [],
   "source": [
    "ac2=accuracy_score(y_test,grid_predictions)\n",
    "print(\"Accuracy is %:\" ,ac2*100)\n",
    "cm2=confusion_matrix(y_test,grid_predictions)\n",
    "ax=sns.heatmap(cm2,annot=True,linewidth=.5,fmt='d')"
   ]
  },
  {
   "cell_type": "code",
   "execution_count": null,
   "id": "e8ad4002",
   "metadata": {},
   "outputs": [],
   "source": [
    "from sklearn.metrics import roc_auc_score, roc_curve\n",
    "\n",
    "y_pred_prob = rf_clf_tuned.predict_proba(X_test)[:, 1]\n",
    "print(f'Area Under the Curve Score: {roc_auc_score(y_test, y_pred_prob)}')"
   ]
  },
  {
   "cell_type": "code",
   "execution_count": null,
   "id": "76aa4bfc",
   "metadata": {},
   "outputs": [],
   "source": []
  },
  {
   "cell_type": "code",
   "execution_count": null,
   "id": "9d9d0e59",
   "metadata": {},
   "outputs": [],
   "source": []
  },
  {
   "cell_type": "code",
   "execution_count": null,
   "id": "288774c2",
   "metadata": {},
   "outputs": [],
   "source": []
  },
  {
   "cell_type": "code",
   "execution_count": null,
   "id": "122054ea",
   "metadata": {},
   "outputs": [],
   "source": []
  }
 ],
 "metadata": {
  "kernelspec": {
   "display_name": "Python 3",
   "language": "python",
   "name": "python3"
  },
  "language_info": {
   "codemirror_mode": {
    "name": "ipython",
    "version": 3
   },
   "file_extension": ".py",
   "mimetype": "text/x-python",
   "name": "python",
   "nbconvert_exporter": "python",
   "pygments_lexer": "ipython3",
   "version": "3.8.8"
  }
 },
 "nbformat": 4,
 "nbformat_minor": 5
}
